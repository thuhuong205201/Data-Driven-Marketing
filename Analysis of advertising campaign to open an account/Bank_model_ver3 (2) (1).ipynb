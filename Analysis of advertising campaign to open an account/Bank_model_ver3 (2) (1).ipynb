{
  "nbformat": 4,
  "nbformat_minor": 0,
  "metadata": {
    "colab": {
      "name": "Bank_model_ver3.ipynb",
      "provenance": [],
      "collapsed_sections": []
    },
    "kernelspec": {
      "name": "python3",
      "display_name": "Python 3"
    },
    "language_info": {
      "name": "python"
    }
  },
  "cells": [
    {
      "cell_type": "markdown",
      "source": [
        "# Import data\n"
      ],
      "metadata": {
        "id": "R4V7E8LkP1sC"
      }
    },
    {
      "cell_type": "code",
      "execution_count": 120,
      "metadata": {
        "id": "P46c8GfHOZIx"
      },
      "outputs": [],
      "source": [
        "import pandas as pd\n",
        "import numpy as np\n",
        "import matplotlib.pyplot as plt\n",
        "import seaborn as sns\n",
        "from sklearn.linear_model import LogisticRegression\n",
        "from sklearn.tree import DecisionTreeClassifier\n",
        "from sklearn import metrics\n",
        "from sklearn.model_selection import train_test_split, StratifiedKFold\n",
        "from sklearn.metrics import RocCurveDisplay,classification_report, confusion_matrix, accuracy_score, roc_auc_score, roc_curve, recall_score\n",
        "from sklearn.model_selection import GridSearchCV, RepeatedStratifiedKFold, RandomizedSearchCV, cross_val_score\n",
        "from sklearn.tree import export_graphviz\n",
        "from sklearn.linear_model import LogisticRegression\n",
        "from sklearn.preprocessing import StandardScaler\n",
        "import graphviz\n",
        "from sklearn.preprocessing import LabelEncoder\n",
        "from sklearn.neighbors import KNeighborsClassifier\n",
        "from sklearn.model_selection import KFold\n",
        "from sklearn.model_selection import GridSearchCV\n",
        "from sklearn.preprocessing import StandardScaler\n"
      ]
    },
    {
      "cell_type": "code",
      "source": [
        "df = pd.read_csv(\"/content/drive/MyDrive/Data_driven/data/bank-additional-full.csv\", sep=\";\")\n",
        "df.head()"
      ],
      "metadata": {
        "colab": {
          "base_uri": "https://localhost:8080/",
          "height": 300
        },
        "id": "iJPQAVCtP1Ib",
        "outputId": "9e024df4-02fe-4927-cae4-3b76e8e18624"
      },
      "execution_count": null,
      "outputs": [
        {
          "output_type": "execute_result",
          "data": {
            "text/html": [
              "\n",
              "  <div id=\"df-42398c86-bfd6-48dd-9481-63a30a3b0350\">\n",
              "    <div class=\"colab-df-container\">\n",
              "      <div>\n",
              "<style scoped>\n",
              "    .dataframe tbody tr th:only-of-type {\n",
              "        vertical-align: middle;\n",
              "    }\n",
              "\n",
              "    .dataframe tbody tr th {\n",
              "        vertical-align: top;\n",
              "    }\n",
              "\n",
              "    .dataframe thead th {\n",
              "        text-align: right;\n",
              "    }\n",
              "</style>\n",
              "<table border=\"1\" class=\"dataframe\">\n",
              "  <thead>\n",
              "    <tr style=\"text-align: right;\">\n",
              "      <th></th>\n",
              "      <th>age</th>\n",
              "      <th>job</th>\n",
              "      <th>marital</th>\n",
              "      <th>education</th>\n",
              "      <th>default</th>\n",
              "      <th>housing</th>\n",
              "      <th>loan</th>\n",
              "      <th>contact</th>\n",
              "      <th>month</th>\n",
              "      <th>day_of_week</th>\n",
              "      <th>...</th>\n",
              "      <th>campaign</th>\n",
              "      <th>pdays</th>\n",
              "      <th>previous</th>\n",
              "      <th>poutcome</th>\n",
              "      <th>emp.var.rate</th>\n",
              "      <th>cons.price.idx</th>\n",
              "      <th>cons.conf.idx</th>\n",
              "      <th>euribor3m</th>\n",
              "      <th>nr.employed</th>\n",
              "      <th>y</th>\n",
              "    </tr>\n",
              "  </thead>\n",
              "  <tbody>\n",
              "    <tr>\n",
              "      <th>0</th>\n",
              "      <td>56</td>\n",
              "      <td>housemaid</td>\n",
              "      <td>married</td>\n",
              "      <td>basic.4y</td>\n",
              "      <td>no</td>\n",
              "      <td>no</td>\n",
              "      <td>no</td>\n",
              "      <td>telephone</td>\n",
              "      <td>may</td>\n",
              "      <td>mon</td>\n",
              "      <td>...</td>\n",
              "      <td>1</td>\n",
              "      <td>999</td>\n",
              "      <td>0</td>\n",
              "      <td>nonexistent</td>\n",
              "      <td>1.1</td>\n",
              "      <td>93.994</td>\n",
              "      <td>-36.4</td>\n",
              "      <td>4.857</td>\n",
              "      <td>5191.0</td>\n",
              "      <td>no</td>\n",
              "    </tr>\n",
              "    <tr>\n",
              "      <th>1</th>\n",
              "      <td>57</td>\n",
              "      <td>services</td>\n",
              "      <td>married</td>\n",
              "      <td>high.school</td>\n",
              "      <td>unknown</td>\n",
              "      <td>no</td>\n",
              "      <td>no</td>\n",
              "      <td>telephone</td>\n",
              "      <td>may</td>\n",
              "      <td>mon</td>\n",
              "      <td>...</td>\n",
              "      <td>1</td>\n",
              "      <td>999</td>\n",
              "      <td>0</td>\n",
              "      <td>nonexistent</td>\n",
              "      <td>1.1</td>\n",
              "      <td>93.994</td>\n",
              "      <td>-36.4</td>\n",
              "      <td>4.857</td>\n",
              "      <td>5191.0</td>\n",
              "      <td>no</td>\n",
              "    </tr>\n",
              "    <tr>\n",
              "      <th>2</th>\n",
              "      <td>37</td>\n",
              "      <td>services</td>\n",
              "      <td>married</td>\n",
              "      <td>high.school</td>\n",
              "      <td>no</td>\n",
              "      <td>yes</td>\n",
              "      <td>no</td>\n",
              "      <td>telephone</td>\n",
              "      <td>may</td>\n",
              "      <td>mon</td>\n",
              "      <td>...</td>\n",
              "      <td>1</td>\n",
              "      <td>999</td>\n",
              "      <td>0</td>\n",
              "      <td>nonexistent</td>\n",
              "      <td>1.1</td>\n",
              "      <td>93.994</td>\n",
              "      <td>-36.4</td>\n",
              "      <td>4.857</td>\n",
              "      <td>5191.0</td>\n",
              "      <td>no</td>\n",
              "    </tr>\n",
              "    <tr>\n",
              "      <th>3</th>\n",
              "      <td>40</td>\n",
              "      <td>admin.</td>\n",
              "      <td>married</td>\n",
              "      <td>basic.6y</td>\n",
              "      <td>no</td>\n",
              "      <td>no</td>\n",
              "      <td>no</td>\n",
              "      <td>telephone</td>\n",
              "      <td>may</td>\n",
              "      <td>mon</td>\n",
              "      <td>...</td>\n",
              "      <td>1</td>\n",
              "      <td>999</td>\n",
              "      <td>0</td>\n",
              "      <td>nonexistent</td>\n",
              "      <td>1.1</td>\n",
              "      <td>93.994</td>\n",
              "      <td>-36.4</td>\n",
              "      <td>4.857</td>\n",
              "      <td>5191.0</td>\n",
              "      <td>no</td>\n",
              "    </tr>\n",
              "    <tr>\n",
              "      <th>4</th>\n",
              "      <td>56</td>\n",
              "      <td>services</td>\n",
              "      <td>married</td>\n",
              "      <td>high.school</td>\n",
              "      <td>no</td>\n",
              "      <td>no</td>\n",
              "      <td>yes</td>\n",
              "      <td>telephone</td>\n",
              "      <td>may</td>\n",
              "      <td>mon</td>\n",
              "      <td>...</td>\n",
              "      <td>1</td>\n",
              "      <td>999</td>\n",
              "      <td>0</td>\n",
              "      <td>nonexistent</td>\n",
              "      <td>1.1</td>\n",
              "      <td>93.994</td>\n",
              "      <td>-36.4</td>\n",
              "      <td>4.857</td>\n",
              "      <td>5191.0</td>\n",
              "      <td>no</td>\n",
              "    </tr>\n",
              "  </tbody>\n",
              "</table>\n",
              "<p>5 rows × 21 columns</p>\n",
              "</div>\n",
              "      <button class=\"colab-df-convert\" onclick=\"convertToInteractive('df-42398c86-bfd6-48dd-9481-63a30a3b0350')\"\n",
              "              title=\"Convert this dataframe to an interactive table.\"\n",
              "              style=\"display:none;\">\n",
              "        \n",
              "  <svg xmlns=\"http://www.w3.org/2000/svg\" height=\"24px\"viewBox=\"0 0 24 24\"\n",
              "       width=\"24px\">\n",
              "    <path d=\"M0 0h24v24H0V0z\" fill=\"none\"/>\n",
              "    <path d=\"M18.56 5.44l.94 2.06.94-2.06 2.06-.94-2.06-.94-.94-2.06-.94 2.06-2.06.94zm-11 1L8.5 8.5l.94-2.06 2.06-.94-2.06-.94L8.5 2.5l-.94 2.06-2.06.94zm10 10l.94 2.06.94-2.06 2.06-.94-2.06-.94-.94-2.06-.94 2.06-2.06.94z\"/><path d=\"M17.41 7.96l-1.37-1.37c-.4-.4-.92-.59-1.43-.59-.52 0-1.04.2-1.43.59L10.3 9.45l-7.72 7.72c-.78.78-.78 2.05 0 2.83L4 21.41c.39.39.9.59 1.41.59.51 0 1.02-.2 1.41-.59l7.78-7.78 2.81-2.81c.8-.78.8-2.07 0-2.86zM5.41 20L4 18.59l7.72-7.72 1.47 1.35L5.41 20z\"/>\n",
              "  </svg>\n",
              "      </button>\n",
              "      \n",
              "  <style>\n",
              "    .colab-df-container {\n",
              "      display:flex;\n",
              "      flex-wrap:wrap;\n",
              "      gap: 12px;\n",
              "    }\n",
              "\n",
              "    .colab-df-convert {\n",
              "      background-color: #E8F0FE;\n",
              "      border: none;\n",
              "      border-radius: 50%;\n",
              "      cursor: pointer;\n",
              "      display: none;\n",
              "      fill: #1967D2;\n",
              "      height: 32px;\n",
              "      padding: 0 0 0 0;\n",
              "      width: 32px;\n",
              "    }\n",
              "\n",
              "    .colab-df-convert:hover {\n",
              "      background-color: #E2EBFA;\n",
              "      box-shadow: 0px 1px 2px rgba(60, 64, 67, 0.3), 0px 1px 3px 1px rgba(60, 64, 67, 0.15);\n",
              "      fill: #174EA6;\n",
              "    }\n",
              "\n",
              "    [theme=dark] .colab-df-convert {\n",
              "      background-color: #3B4455;\n",
              "      fill: #D2E3FC;\n",
              "    }\n",
              "\n",
              "    [theme=dark] .colab-df-convert:hover {\n",
              "      background-color: #434B5C;\n",
              "      box-shadow: 0px 1px 3px 1px rgba(0, 0, 0, 0.15);\n",
              "      filter: drop-shadow(0px 1px 2px rgba(0, 0, 0, 0.3));\n",
              "      fill: #FFFFFF;\n",
              "    }\n",
              "  </style>\n",
              "\n",
              "      <script>\n",
              "        const buttonEl =\n",
              "          document.querySelector('#df-42398c86-bfd6-48dd-9481-63a30a3b0350 button.colab-df-convert');\n",
              "        buttonEl.style.display =\n",
              "          google.colab.kernel.accessAllowed ? 'block' : 'none';\n",
              "\n",
              "        async function convertToInteractive(key) {\n",
              "          const element = document.querySelector('#df-42398c86-bfd6-48dd-9481-63a30a3b0350');\n",
              "          const dataTable =\n",
              "            await google.colab.kernel.invokeFunction('convertToInteractive',\n",
              "                                                     [key], {});\n",
              "          if (!dataTable) return;\n",
              "\n",
              "          const docLinkHtml = 'Like what you see? Visit the ' +\n",
              "            '<a target=\"_blank\" href=https://colab.research.google.com/notebooks/data_table.ipynb>data table notebook</a>'\n",
              "            + ' to learn more about interactive tables.';\n",
              "          element.innerHTML = '';\n",
              "          dataTable['output_type'] = 'display_data';\n",
              "          await google.colab.output.renderOutput(dataTable, element);\n",
              "          const docLink = document.createElement('div');\n",
              "          docLink.innerHTML = docLinkHtml;\n",
              "          element.appendChild(docLink);\n",
              "        }\n",
              "      </script>\n",
              "    </div>\n",
              "  </div>\n",
              "  "
            ],
            "text/plain": [
              "   age        job  marital    education  default housing loan    contact  \\\n",
              "0   56  housemaid  married     basic.4y       no      no   no  telephone   \n",
              "1   57   services  married  high.school  unknown      no   no  telephone   \n",
              "2   37   services  married  high.school       no     yes   no  telephone   \n",
              "3   40     admin.  married     basic.6y       no      no   no  telephone   \n",
              "4   56   services  married  high.school       no      no  yes  telephone   \n",
              "\n",
              "  month day_of_week  ...  campaign  pdays  previous     poutcome emp.var.rate  \\\n",
              "0   may         mon  ...         1    999         0  nonexistent          1.1   \n",
              "1   may         mon  ...         1    999         0  nonexistent          1.1   \n",
              "2   may         mon  ...         1    999         0  nonexistent          1.1   \n",
              "3   may         mon  ...         1    999         0  nonexistent          1.1   \n",
              "4   may         mon  ...         1    999         0  nonexistent          1.1   \n",
              "\n",
              "   cons.price.idx  cons.conf.idx  euribor3m  nr.employed   y  \n",
              "0          93.994          -36.4      4.857       5191.0  no  \n",
              "1          93.994          -36.4      4.857       5191.0  no  \n",
              "2          93.994          -36.4      4.857       5191.0  no  \n",
              "3          93.994          -36.4      4.857       5191.0  no  \n",
              "4          93.994          -36.4      4.857       5191.0  no  \n",
              "\n",
              "[5 rows x 21 columns]"
            ]
          },
          "metadata": {},
          "execution_count": 45
        }
      ]
    },
    {
      "cell_type": "code",
      "source": [
        "from google.colab import drive\n",
        "drive.mount('/content/drive')"
      ],
      "metadata": {
        "colab": {
          "base_uri": "https://localhost:8080/"
        },
        "id": "UvbJlA6U_o8j",
        "outputId": "28e475fb-5a08-4d8b-8c6f-b5a6f438f858"
      },
      "execution_count": null,
      "outputs": [
        {
          "output_type": "stream",
          "name": "stdout",
          "text": [
            "Mounted at /content/drive\n"
          ]
        }
      ]
    },
    {
      "cell_type": "code",
      "source": [
        "df.shape"
      ],
      "metadata": {
        "colab": {
          "base_uri": "https://localhost:8080/"
        },
        "id": "VK7nzfgBQI8a",
        "outputId": "8cd5637e-8be2-40d4-ab15-b5655d1e7772"
      },
      "execution_count": null,
      "outputs": [
        {
          "output_type": "execute_result",
          "data": {
            "text/plain": [
              "(41188, 21)"
            ]
          },
          "metadata": {},
          "execution_count": 46
        }
      ]
    },
    {
      "cell_type": "code",
      "source": [
        "df.info()"
      ],
      "metadata": {
        "colab": {
          "base_uri": "https://localhost:8080/"
        },
        "id": "ub6AAFduQI_J",
        "outputId": "ff76c517-3d06-4728-d371-a189c4f50abd"
      },
      "execution_count": null,
      "outputs": [
        {
          "output_type": "stream",
          "name": "stdout",
          "text": [
            "<class 'pandas.core.frame.DataFrame'>\n",
            "RangeIndex: 41188 entries, 0 to 41187\n",
            "Data columns (total 21 columns):\n",
            " #   Column          Non-Null Count  Dtype  \n",
            "---  ------          --------------  -----  \n",
            " 0   age             41188 non-null  int64  \n",
            " 1   job             41188 non-null  object \n",
            " 2   marital         41188 non-null  object \n",
            " 3   education       41188 non-null  object \n",
            " 4   default         41188 non-null  object \n",
            " 5   housing         41188 non-null  object \n",
            " 6   loan            41188 non-null  object \n",
            " 7   contact         41188 non-null  object \n",
            " 8   month           41188 non-null  object \n",
            " 9   day_of_week     41188 non-null  object \n",
            " 10  duration        41188 non-null  int64  \n",
            " 11  campaign        41188 non-null  int64  \n",
            " 12  pdays           41188 non-null  int64  \n",
            " 13  previous        41188 non-null  int64  \n",
            " 14  poutcome        41188 non-null  object \n",
            " 15  emp.var.rate    41188 non-null  float64\n",
            " 16  cons.price.idx  41188 non-null  float64\n",
            " 17  cons.conf.idx   41188 non-null  float64\n",
            " 18  euribor3m       41188 non-null  float64\n",
            " 19  nr.employed     41188 non-null  float64\n",
            " 20  y               41188 non-null  object \n",
            "dtypes: float64(5), int64(5), object(11)\n",
            "memory usage: 6.6+ MB\n"
          ]
        }
      ]
    },
    {
      "cell_type": "code",
      "source": [
        "def read_file(path):\n",
        "  df = pd.read_csv(path, sep=\";\")\n",
        "  return df\n",
        "\n",
        "def Encoder(df):\n",
        "    le = LabelEncoder()\n",
        "    df = pd.get_dummies(df, columns = ['job','marital', 'education','default', 'loan', 'housing'])\n",
        "    df['contact'] = df['contact'].map({'telephone': 1, 'cellular': 0})\n",
        "    df['poutcome'] = df['poutcome'].map({'success': 1, 'nonexistent': 0, 'failure':0})\n",
        "    df['y'] = df['y'].map({'yes':1, 'no':0})\n",
        "    return df \n",
        "\n",
        "def age(df):\n",
        "    df.loc[df['age'] <= 32, 'age'] = 1\n",
        "    df.loc[(df['age'] > 32) & (df['age'] <= 47), 'age'] = 2\n",
        "    df.loc[(df['age'] > 47) & (df['age'] <= 70), 'age'] = 3\n",
        "    df.loc[(df['age'] > 70), 'age']=4\n",
        "    return df\n",
        "\n",
        "def duration(df):\n",
        "    df.loc[df['duration'] <= 102, 'duration'] = 1\n",
        "    df.loc[(df['duration'] > 102) & (df['duration'] <= 180)  , 'duration']    = 2\n",
        "    df.loc[(df['duration'] > 180) & (df['duration'] <= 319)  , 'duration']   = 3\n",
        "    df.loc[(df['duration'] > 319) & (df['duration'] <= 644.5), 'duration'] = 4\n",
        "    df.loc[df['duration']  > 644.5, 'duration'] = 5\n",
        "    return df\n",
        "\n",
        "def week_month(df):\n",
        "    d_week = {'mon':1, 'tue':2, 'wed':3, 'thu':4, 'fri':5, 'sat':6, 'sun':7}\n",
        "    d_mons = {'jan':1, 'feb':2, 'mar':3, 'apr':4, 'may':5, 'jun':6, 'jul':7, 'aug':8, 'sep':9, 'oct':10, 'nov':11, 'dec':12}\n",
        "    df.month = df.month.map(d_mons)\n",
        "    df.day_of_week = df.day_of_week.map(d_week)\n",
        "    return df\n",
        "\n",
        "def clean(df):\n",
        "    df.dropna(inplace=True)\n",
        "    df = df.drop(columns=['emp.var.rate','cons.price.idx', 'nr.employed', 'month', 'day_of_week'])\n",
        "    df = df.drop_duplicates()\n",
        "    return df\n",
        "\n",
        "def train_test(X, y):\n",
        "  X_train, X_test, y_train, y_test = train_test_split(X, y, test_size=0.3, random_state=42)\n",
        "  k_fold = KFold(n_splits=10, shuffle=True, random_state=0)\n",
        "  sc_X = StandardScaler()\n",
        "  X_train = sc_X.fit_transform(X_train)\n",
        "  X_test = sc_X.transform(X_test)\n",
        "  return X_train, X_test, y_train, y_test\n",
        "\n",
        "def logitic(X_train, y_train):\n",
        "  logit = LogisticRegression(random_state=42)\n",
        "  logit.fit(X_train, y_train)\n",
        "  return logit\n",
        "\n",
        "def detree(X_train, y_train):\n",
        "  dtre = DecisionTreeClassifier(random_state=42)\n",
        "  dtre.fit(X_train, y_train)\n",
        "  return dtre\n",
        "\n",
        "def hyperparam_tuning_dt(X_train, y_train):\n",
        "    params = {'max_depth': np.arange(1, 10)}\n",
        "    model = DecisionTreeClassifier()\n",
        "    dtree = GridSearchCV(DecisionTreeClassifier(),  param_grid=params)\n",
        "    dtree.fit(X_train, y_train)\n",
        "    #best_md1 = md1.best_estimator_\n",
        "    return dtree\n",
        "\n",
        "def hyperparam_tuning_logit(X_train, y_train):\n",
        "  logit = LogisticRegression(random_state=42)\n",
        "  logit.fit(X_train, y_train)\n",
        "  #best_md2 = md2.best_estimator_\n",
        "  return logit\n",
        "\n",
        "\n",
        "def plot_auc(logit, dtree, X_test, y_test):\n",
        "  # logistic\n",
        "  pres = logit.predict_proba(X_test)\n",
        "  pred = pres[:,1]\n",
        "  fpr, tpr, _ = metrics.roc_curve(y_test, pred)\n",
        "  auc_logit = metrics.auc(fpr, tpr)\n",
        "  plt.plot(fpr, tpr, label=\"Logistic, AUC={:.5f}\".format(auc_logit))\n",
        "  plt.plot([0, 1], [0, 1],'r--')\n",
        "  plt.xlabel(\"False Positive Rate\", fontsize=15)\n",
        "  plt.ylabel(\"True Positive Rate\", fontsize=15)\n",
        "  plt.title('ROC Curve Analysis Test', fontweight='bold', fontsize=15)\n",
        "  plt.legend(prop={'size':13}, loc='lower right')\n",
        "  plt.show()\n",
        "\n",
        "  # DecisionTree\n",
        "  pres1 = dtree.predict_proba(X_test)\n",
        "  pred1 = pres1[:,1]\n",
        "  fpr1, tpr1, _ = metrics.roc_curve(y_test, pred1)\n",
        "  roc_dtree = metrics.auc(fpr1, tpr1)\n",
        "  plt.plot(fpr1, tpr1, label=\"DecisionTree, AUC={:.5f}\".format(roc_dtree))\n",
        "  plt.plot([0, 1], [0, 1],'r--')\n",
        "  plt.xlabel(\"False Positive Rate\", fontsize=15)\n",
        "  plt.ylabel(\"True Positive Rate\", fontsize=15)\n",
        "  plt.title('ROC Curve Analysis Test', fontweight='bold', fontsize=15)\n",
        "  plt.legend(prop={'size':13}, loc='lower right')\n",
        "  plt.show()\n",
        "\n",
        "\n",
        "  \n"
      ],
      "metadata": {
        "id": "DecqieT9jfFK"
      },
      "execution_count": 123,
      "outputs": []
    },
    {
      "cell_type": "code",
      "source": [
        "def main():\n",
        "  df = read_file(\"/content/drive/MyDrive/Data_driven/data/bank-additional-full.csv\")\n",
        "  df = Encoder(df)\n",
        "  df = age(df)\n",
        "  df = duration(df)\n",
        "  df = week_month(df)\n",
        "  df = clean(df)\n",
        "\n",
        "  X = df.loc[:, df.columns != 'y']\n",
        "  y = df.loc[:, df.columns == 'y']\n",
        "\n",
        "  X_train, X_test, y_train, y_test = train_test(X,y)\n",
        "  params = {'max_depth': np.arange(1, 10)}\n",
        "  model = DecisionTreeClassifier()\n",
        "  dtree = GridSearchCV(DecisionTreeClassifier(),  param_grid=params)\n",
        "  dtree.fit(X_train, y_train)\n",
        "\n",
        "  logit = LogisticRegression(random_state=42)\n",
        "  logit.fit(X_train, y_train)\n",
        "  \n",
        "  pred_lo = logit.predict(X_test)\n",
        "  pred_dt = dtree.predict(X_test)\n",
        "  \n",
        "\n",
        "\n",
        "  print('Logistic')\n",
        "  print('recall_score:', metrics.recall_score(y_test, pred_lo))\n",
        "  print('f1_score:', metrics.f1_score(y_test, pred_lo))\n",
        "  print('precision_score:', metrics.precision_score(y_test, pred_lo))\n",
        "  print(\"\\n\")\n",
        "  print('DecisionTree')\n",
        "  print('recall_score:', metrics.recall_score(y_test, pred_dt))\n",
        "  print('f1_score:', metrics.f1_score(y_test, pred_dt))\n",
        "  print('precision_score:', metrics.precision_score(y_test, pred_dt))\n",
        "\n",
        "  hyperparam_tuning_dt(X_train, y_train)\n",
        "  hyperparam_tuning_logit(X_train, y_train)\n",
        "\n",
        "  print('AUC train')\n",
        "  plot_auc(logit, dtree, X_train, y_train)\n",
        "  print(\"\\n AUC test\")\n",
        "  plot_auc(logit, dtree, X_test, y_test)\n",
        "\n",
        "  \n",
        "\n",
        "\n",
        "if __name__ == '__main__':\n",
        "  main()"
      ],
      "metadata": {
        "colab": {
          "base_uri": "https://localhost:8080/",
          "height": 1000
        },
        "id": "swNcQp0GRRTC",
        "outputId": "9d95cdd9-1aae-4127-e641-f04659c70aaa"
      },
      "execution_count": 124,
      "outputs": [
        {
          "output_type": "stream",
          "name": "stderr",
          "text": [
            "/usr/local/lib/python3.7/dist-packages/sklearn/utils/validation.py:993: DataConversionWarning: A column-vector y was passed when a 1d array was expected. Please change the shape of y to (n_samples, ), for example using ravel().\n",
            "  y = column_or_1d(y, warn=True)\n"
          ]
        },
        {
          "output_type": "stream",
          "name": "stdout",
          "text": [
            "Logistic\n",
            "recall_score: 0.38660907127429806\n",
            "f1_score: 0.4988388295401765\n",
            "precision_score: 0.7028795811518325\n",
            "\n",
            "\n",
            "DecisionTree\n",
            "recall_score: 0.5147588192944564\n",
            "f1_score: 0.5610043154178109\n",
            "precision_score: 0.6163793103448276\n"
          ]
        },
        {
          "output_type": "stream",
          "name": "stderr",
          "text": [
            "/usr/local/lib/python3.7/dist-packages/sklearn/utils/validation.py:993: DataConversionWarning: A column-vector y was passed when a 1d array was expected. Please change the shape of y to (n_samples, ), for example using ravel().\n",
            "  y = column_or_1d(y, warn=True)\n"
          ]
        },
        {
          "output_type": "stream",
          "name": "stdout",
          "text": [
            "AUC train\n"
          ]
        },
        {
          "output_type": "display_data",
          "data": {
            "image/png": "[encoded data removed]",
            "text/plain": [
              "<Figure size 432x288 with 1 Axes>"
            ]
          },
          "metadata": {
            "needs_background": "light"
          }
        },
        {
          "output_type": "display_data",
          "data": {
            "image/png": "[encoded data removed]",
            "text/plain": [
              "<Figure size 432x288 with 1 Axes>"
            ]
          },
          "metadata": {
            "needs_background": "light"
          }
        },
        {
          "output_type": "stream",
          "name": "stdout",
          "text": [
            "\n",
            " AUC test\n"
          ]
        },
        {
          "output_type": "display_data",
          "data": {
            "image/png": "[encoded data removed]",
            "text/plain": [
              "<Figure size 432x288 with 1 Axes>"
            ]
          },
          "metadata": {
            "needs_background": "light"
          }
        },
        {
          "output_type": "display_data",
          "data": {
            "image/png": "[encoded data removed]",
            "text/plain": [
              "<Figure size 432x288 with 1 Axes>"
            ]
          },
          "metadata": {
            "needs_background": "light"
          }
        }
      ]
    },
    {
      "cell_type": "code",
      "source": [
        ""
      ],
      "metadata": {
        "id": "Ej6O3kAijhEw"
      },
      "execution_count": null,
      "outputs": []
    },
    {
      "cell_type": "code",
      "source": [
        ""
      ],
      "metadata": {
        "id": "4iXJNUa8jhHx"
      },
      "execution_count": null,
      "outputs": []
    }
  ]
}